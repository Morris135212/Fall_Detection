{
 "cells": [
  {
   "cell_type": "code",
   "execution_count": 1,
   "id": "89680d4d",
   "metadata": {},
   "outputs": [],
   "source": [
    "from utils.data_collection import collect_data"
   ]
  },
  {
   "cell_type": "code",
   "execution_count": 2,
   "id": "75baec38",
   "metadata": {},
   "outputs": [],
   "source": [
    "import os\n",
    "\n",
    "path = \"./dataset/Fall_Detection_Object\"\n",
    "if not os.path.exists(path):\n",
    "    os.mkdir(path)\n",
    "    \n",
    "train_path = f\"{path}/Train\"\n",
    "if not os.path.exists(train_path):\n",
    "    os.mkdir(train_path)\n",
    "train_path = f\"{train_path}/Fall_Person_train\"\n",
    "\n",
    "valid_path = f\"{path}/Test\"\n",
    "if not os.path.exists(valid_path):\n",
    "    os.mkdir(valid_path)\n",
    "valid_path = f\"{valid_path}/Fall_Person_valid\""
   ]
  },
  {
   "cell_type": "code",
   "execution_count": 3,
   "id": "823e2e9e",
   "metadata": {},
   "outputs": [
    {
     "name": "stdout",
     "output_type": "stream",
     "text": [
      "\n",
      "Data collection finished.\n"
     ]
    }
   ],
   "source": [
    "collect_data(train_path)"
   ]
  },
  {
   "cell_type": "code",
   "execution_count": null,
   "id": "bd1e7f5c",
   "metadata": {},
   "outputs": [],
   "source": []
  }
 ],
 "metadata": {
  "kernelspec": {
   "display_name": "Python 3 (ipykernel)",
   "language": "python",
   "name": "python3"
  },
  "language_info": {
   "codemirror_mode": {
    "name": "ipython",
    "version": 3
   },
   "file_extension": ".py",
   "mimetype": "text/x-python",
   "name": "python",
   "nbconvert_exporter": "python",
   "pygments_lexer": "ipython3",
   "version": "3.8.12"
  }
 },
 "nbformat": 4,
 "nbformat_minor": 5
}

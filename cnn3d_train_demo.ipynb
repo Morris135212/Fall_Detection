{
 "cells": [
  {
   "cell_type": "code",
   "execution_count": 1,
   "id": "70406f61",
   "metadata": {},
   "outputs": [
    {
     "name": "stderr",
     "output_type": "stream",
     "text": [
      "/Users/maochenhui/miniforge3/envs/DL/lib/python3.8/site-packages/torchvision/io/image.py:11: UserWarning: Failed to load image Python extension: \n",
      "  warn(f\"Failed to load image Python extension: {e}\")\n"
     ]
    }
   ],
   "source": [
    "from dataset.cnn3d import CustomDataset"
   ]
  },
  {
   "cell_type": "code",
   "execution_count": 2,
   "id": "ab92fda5",
   "metadata": {},
   "outputs": [],
   "source": [
    "train_path = \"./data/dataset/Fall_Detection/Train\"\n",
    "val_path = \"./data/dataset/Fall_Detection/Test\"\n",
    "classes = [\"Walk\", \"Fall\"]\n",
    "trainset = CustomDataset(train_path, classes)\n",
    "valset = CustomDataset(val_path, classes)"
   ]
  },
  {
   "cell_type": "code",
   "execution_count": 3,
   "id": "8b960b6d",
   "metadata": {},
   "outputs": [
    {
     "name": "stderr",
     "output_type": "stream",
     "text": [
      "/Users/maochenhui/Python/pycharm_workspace/E6692/Fall_Detection/models/cnn3d/__init__.py:252: UserWarning: nn.init.kaiming_normal is now deprecated in favor of nn.init.kaiming_normal_.\n",
      "  m.weight = nn.init.kaiming_normal(m.weight, mode='fan_out')\n"
     ]
    }
   ],
   "source": [
    "from models.cnn3d import get_model, resnet10\n",
    "model = get_model(sample_size=112, sample_duration=10, num_classes=2)\n",
    "resnet = resnet10(sample_size=112, sample_duration=10, num_classes=2)"
   ]
  },
  {
   "cell_type": "code",
   "execution_count": 4,
   "id": "fcb92ed6",
   "metadata": {},
   "outputs": [
    {
     "name": "stdout",
     "output_type": "stream",
     "text": [
      "Initialize conv\n",
      "Initialize Bathch\n",
      "Initialize conv\n",
      "Initialize Bathch\n",
      "Initialize conv\n",
      "Initialize Bathch\n",
      "Initialize conv\n",
      "Initialize Bathch\n",
      "Initialize conv\n",
      "Initialize Bathch\n",
      "Initialize conv\n",
      "Initialize Bathch\n",
      "Initialize conv\n",
      "Initialize Bathch\n",
      "Initialize conv\n",
      "Initialize Bathch\n",
      "Initialize Linear\n",
      "Initialize Linear\n",
      "Initialize Linear\n"
     ]
    }
   ],
   "source": [
    "from train.cnn3d import Trainer\n",
    "\n",
    "config = {\n",
    "    \"model\": model,\n",
    "    \"train_data\":trainset,\n",
    "    \"val_data\":valset,\n",
    "    \"batch_size\":2,\n",
    "    \"epochs\":20,\n",
    "    \"step_size\":200,\n",
    "    \"lr\":1e-3,\n",
    "    \"interval\":40\n",
    "}\n",
    "trainer = Trainer(**config)"
   ]
  },
  {
   "cell_type": "code",
   "execution_count": 5,
   "id": "076f2363",
   "metadata": {
    "scrolled": true
   },
   "outputs": [
    {
     "name": "stdout",
     "output_type": "stream",
     "text": [
      "Start training\n",
      "At epoch 0\n"
     ]
    },
    {
     "name": "stderr",
     "output_type": "stream",
     "text": [
      "\r",
      "  0%|                                                    | 0/87 [00:00<?, ?it/s]"
     ]
    },
    {
     "name": "stdout",
     "output_type": "stream",
     "text": [
      "train loss: 0.04763155058026314, train accuracy: 1.0; eval loss: 0.9630795021851858, eval accuracy: 0.3888888888888889\n",
      "Validation loss decreased (inf --> 0.963080).  Saving model ...\n"
     ]
    },
    {
     "name": "stderr",
     "output_type": "stream",
     "text": [
      " 46%|███████████████████▊                       | 40/87 [00:08<00:09,  4.96it/s]"
     ]
    },
    {
     "name": "stdout",
     "output_type": "stream",
     "text": [
      "train loss: 6.713423061104745, train accuracy: 0.7560975609756098; eval loss: 0.09550863373442553, eval accuracy: 0.9444444444444444\n",
      "Validation loss decreased (0.963080 --> 0.095509).  Saving model ...\n"
     ]
    },
    {
     "name": "stderr",
     "output_type": "stream",
     "text": [
      " 94%|████████████████████████████████████████▌  | 82/87 [00:19<00:01,  2.54it/s]"
     ]
    },
    {
     "name": "stdout",
     "output_type": "stream",
     "text": [
      "train loss: 4.173599997651425, train accuracy: 0.8271604938271605; eval loss: 8.199383007154884, eval accuracy: 0.8333333333333334\n",
      "EarlyStopping counter: 1 out of 20\n"
     ]
    },
    {
     "name": "stderr",
     "output_type": "stream",
     "text": [
      "100%|███████████████████████████████████████████| 87/87 [00:19<00:00,  4.35it/s]\n"
     ]
    },
    {
     "name": "stdout",
     "output_type": "stream",
     "text": [
      "At epoch 1\n"
     ]
    },
    {
     "name": "stderr",
     "output_type": "stream",
     "text": [
      "  2%|█                                           | 2/87 [00:01<00:49,  1.73it/s]"
     ]
    },
    {
     "name": "stdout",
     "output_type": "stream",
     "text": [
      "train loss: 0.0003004959144163877, train accuracy: 1.0; eval loss: 1.607776198121968, eval accuracy: 0.8888888888888888\n",
      "EarlyStopping counter: 2 out of 20\n"
     ]
    },
    {
     "name": "stderr",
     "output_type": "stream",
     "text": [
      " 47%|████████████████████▎                      | 41/87 [00:09<00:21,  2.11it/s]"
     ]
    },
    {
     "name": "stdout",
     "output_type": "stream",
     "text": [
      "train loss: 0.37844459402026864, train accuracy: 0.975609756097561; eval loss: 1.0858680167086954, eval accuracy: 0.8888888888888888\n",
      "EarlyStopping counter: 3 out of 20\n"
     ]
    },
    {
     "name": "stderr",
     "output_type": "stream",
     "text": [
      " 92%|███████████████████████████████████████▌   | 80/87 [00:17<00:01,  5.06it/s]"
     ]
    },
    {
     "name": "stdout",
     "output_type": "stream",
     "text": [
      "train loss: 0.9730229799469436, train accuracy: 0.9629629629629629; eval loss: 8.874410622657555e-07, eval accuracy: 1.0\n",
      "Validation loss decreased (0.095509 --> 0.000001).  Saving model ...\n"
     ]
    },
    {
     "name": "stderr",
     "output_type": "stream",
     "text": [
      "100%|███████████████████████████████████████████| 87/87 [00:19<00:00,  4.39it/s]\n"
     ]
    },
    {
     "name": "stdout",
     "output_type": "stream",
     "text": [
      "At epoch 2\n"
     ]
    },
    {
     "name": "stderr",
     "output_type": "stream",
     "text": [
      "  2%|█                                           | 2/87 [00:01<00:48,  1.76it/s]"
     ]
    },
    {
     "name": "stdout",
     "output_type": "stream",
     "text": [
      "train loss: 0.0, train accuracy: 1.0; eval loss: 20.179045783148872, eval accuracy: 0.3888888888888889\n",
      "EarlyStopping counter: 1 out of 20\n"
     ]
    },
    {
     "name": "stderr",
     "output_type": "stream",
     "text": [
      " 46%|███████████████████▊                       | 40/87 [00:08<00:09,  5.05it/s]"
     ]
    },
    {
     "name": "stdout",
     "output_type": "stream",
     "text": [
      "train loss: 0.4029549200191501, train accuracy: 0.9634146341463414; eval loss: 0.0, eval accuracy: 1.0\n",
      "Validation loss decreased (0.000001 --> 0.000000).  Saving model ...\n"
     ]
    },
    {
     "name": "stderr",
     "output_type": "stream",
     "text": [
      " 92%|███████████████████████████████████████▌   | 80/87 [00:17<00:01,  5.12it/s]"
     ]
    },
    {
     "name": "stdout",
     "output_type": "stream",
     "text": [
      "train loss: 0.43136473863830116, train accuracy: 0.9691358024691358; eval loss: 0.0, eval accuracy: 1.0\n",
      "Validation loss decreased (0.000000 --> 0.000000).  Saving model ...\n"
     ]
    },
    {
     "name": "stderr",
     "output_type": "stream",
     "text": [
      "100%|███████████████████████████████████████████| 87/87 [00:19<00:00,  4.39it/s]\n"
     ]
    },
    {
     "name": "stdout",
     "output_type": "stream",
     "text": [
      "At epoch 3\n"
     ]
    },
    {
     "name": "stderr",
     "output_type": "stream",
     "text": [
      "\r",
      "  0%|                                                    | 0/87 [00:00<?, ?it/s]"
     ]
    },
    {
     "name": "stdout",
     "output_type": "stream",
     "text": [
      "train loss: 0.0, train accuracy: 1.0; eval loss: 0.0, eval accuracy: 1.0\n",
      "Validation loss decreased (0.000000 --> 0.000000).  Saving model ...\n"
     ]
    },
    {
     "name": "stderr",
     "output_type": "stream",
     "text": [
      " 46%|███████████████████▊                       | 40/87 [00:08<00:09,  4.87it/s]"
     ]
    },
    {
     "name": "stdout",
     "output_type": "stream",
     "text": [
      "train loss: 4.3467001133405307e-07, train accuracy: 1.0; eval loss: 0.0, eval accuracy: 1.0\n",
      "Validation loss decreased (0.000000 --> 0.000000).  Saving model ...\n"
     ]
    },
    {
     "name": "stderr",
     "output_type": "stream",
     "text": [
      " 92%|███████████████████████████████████████▌   | 80/87 [00:17<00:01,  5.03it/s]"
     ]
    },
    {
     "name": "stdout",
     "output_type": "stream",
     "text": [
      "train loss: 0.001801523514025317, train accuracy: 1.0; eval loss: 0.0, eval accuracy: 1.0\n",
      "Validation loss decreased (0.000000 --> 0.000000).  Saving model ...\n"
     ]
    },
    {
     "name": "stderr",
     "output_type": "stream",
     "text": [
      "100%|███████████████████████████████████████████| 87/87 [00:20<00:00,  4.34it/s]\n"
     ]
    },
    {
     "name": "stdout",
     "output_type": "stream",
     "text": [
      "At epoch 4\n"
     ]
    },
    {
     "name": "stderr",
     "output_type": "stream",
     "text": [
      "  2%|█                                           | 2/87 [00:01<00:49,  1.72it/s]"
     ]
    },
    {
     "name": "stdout",
     "output_type": "stream",
     "text": [
      "train loss: 0.0, train accuracy: 1.0; eval loss: 1.3245475827261544e-08, eval accuracy: 1.0\n",
      "EarlyStopping counter: 1 out of 20\n"
     ]
    },
    {
     "name": "stderr",
     "output_type": "stream",
     "text": [
      " 47%|████████████████████▎                      | 41/87 [00:10<00:22,  2.08it/s]"
     ]
    },
    {
     "name": "stdout",
     "output_type": "stream",
     "text": [
      "train loss: 0.22225115357375727, train accuracy: 0.975609756097561; eval loss: 2.801353793478888e-06, eval accuracy: 1.0\n",
      "EarlyStopping counter: 2 out of 20\n"
     ]
    },
    {
     "name": "stderr",
     "output_type": "stream",
     "text": [
      " 94%|████████████████████████████████████████▌  | 82/87 [00:19<00:01,  2.57it/s]"
     ]
    },
    {
     "name": "stdout",
     "output_type": "stream",
     "text": [
      "train loss: 0.11250083738891947, train accuracy: 0.9876543209876543; eval loss: 5.364392762095981e-07, eval accuracy: 1.0\n",
      "EarlyStopping counter: 3 out of 20\n"
     ]
    },
    {
     "name": "stderr",
     "output_type": "stream",
     "text": [
      "100%|███████████████████████████████████████████| 87/87 [00:19<00:00,  4.35it/s]\n"
     ]
    },
    {
     "name": "stdout",
     "output_type": "stream",
     "text": [
      "At epoch 5\n"
     ]
    },
    {
     "name": "stderr",
     "output_type": "stream",
     "text": [
      "  2%|█                                           | 2/87 [00:01<00:49,  1.72it/s]"
     ]
    },
    {
     "name": "stdout",
     "output_type": "stream",
     "text": [
      "train loss: 0.0, train accuracy: 1.0; eval loss: 2.841083383171079e-06, eval accuracy: 1.0\n",
      "EarlyStopping counter: 4 out of 20\n"
     ]
    },
    {
     "name": "stderr",
     "output_type": "stream",
     "text": [
      " 48%|████████████████████▊                      | 42/87 [00:10<00:17,  2.52it/s]"
     ]
    },
    {
     "name": "stdout",
     "output_type": "stream",
     "text": [
      "train loss: 5.175372235698443e-07, train accuracy: 1.0; eval loss: 4.2173008195176306e-05, eval accuracy: 1.0\n",
      "EarlyStopping counter: 5 out of 20\n"
     ]
    },
    {
     "name": "stderr",
     "output_type": "stream",
     "text": [
      " 93%|████████████████████████████████████████   | 81/87 [00:18<00:02,  2.10it/s]"
     ]
    },
    {
     "name": "stdout",
     "output_type": "stream",
     "text": [
      "train loss: 7.674782718373693e-07, train accuracy: 1.0; eval loss: 4.900809358332481e-07, eval accuracy: 1.0\n",
      "EarlyStopping counter: 6 out of 20\n"
     ]
    },
    {
     "name": "stderr",
     "output_type": "stream",
     "text": [
      "100%|███████████████████████████████████████████| 87/87 [00:19<00:00,  4.37it/s]\n"
     ]
    },
    {
     "name": "stdout",
     "output_type": "stream",
     "text": [
      "At epoch 6\n"
     ]
    },
    {
     "name": "stderr",
     "output_type": "stream",
     "text": [
      "  2%|█                                           | 2/87 [00:01<00:49,  1.72it/s]"
     ]
    },
    {
     "name": "stdout",
     "output_type": "stream",
     "text": [
      "train loss: 0.0, train accuracy: 1.0; eval loss: 9.934098620255503e-08, eval accuracy: 1.0\n",
      "EarlyStopping counter: 7 out of 20\n"
     ]
    },
    {
     "name": "stderr",
     "output_type": "stream",
     "text": [
      " 48%|████████████████████▊                      | 42/87 [00:10<00:18,  2.48it/s]"
     ]
    },
    {
     "name": "stdout",
     "output_type": "stream",
     "text": [
      "train loss: 0.43140495114210176, train accuracy: 0.9878048780487805; eval loss: 1.9205910777802475e-07, eval accuracy: 1.0\n",
      "EarlyStopping counter: 8 out of 20\n"
     ]
    },
    {
     "name": "stderr",
     "output_type": "stream",
     "text": [
      " 93%|████████████████████████████████████████   | 81/87 [00:19<00:02,  2.06it/s]"
     ]
    },
    {
     "name": "stdout",
     "output_type": "stream",
     "text": [
      "train loss: 0.2867736081811197, train accuracy: 0.9814814814814815; eval loss: 7.036966820143991, eval accuracy: 0.6666666666666666\n",
      "EarlyStopping counter: 9 out of 20\n"
     ]
    },
    {
     "name": "stderr",
     "output_type": "stream",
     "text": [
      "100%|███████████████████████████████████████████| 87/87 [00:20<00:00,  4.26it/s]\n"
     ]
    },
    {
     "name": "stdout",
     "output_type": "stream",
     "text": [
      "At epoch 7\n"
     ]
    },
    {
     "name": "stderr",
     "output_type": "stream",
     "text": [
      "  1%|▌                                           | 1/87 [00:01<01:37,  1.14s/it]"
     ]
    },
    {
     "name": "stdout",
     "output_type": "stream",
     "text": [
      "train loss: 0.0, train accuracy: 1.0; eval loss: 6.041266832086773, eval accuracy: 0.6666666666666666\n",
      "EarlyStopping counter: 10 out of 20\n"
     ]
    },
    {
     "name": "stderr",
     "output_type": "stream",
     "text": [
      " 47%|████████████████████▎                      | 41/87 [00:09<00:21,  2.12it/s]"
     ]
    },
    {
     "name": "stdout",
     "output_type": "stream",
     "text": [
      "train loss: 0.17325273374202457, train accuracy: 0.975609756097561; eval loss: 0.0009812709564774498, eval accuracy: 1.0\n",
      "EarlyStopping counter: 11 out of 20\n"
     ]
    },
    {
     "name": "stderr",
     "output_type": "stream",
     "text": [
      " 94%|████████████████████████████████████████▌  | 82/87 [00:18<00:01,  2.54it/s]"
     ]
    },
    {
     "name": "stdout",
     "output_type": "stream",
     "text": [
      "train loss: 0.0876958281904075, train accuracy: 0.9876543209876543; eval loss: 0.003633720692758086, eval accuracy: 1.0\n",
      "EarlyStopping counter: 12 out of 20\n"
     ]
    },
    {
     "name": "stderr",
     "output_type": "stream",
     "text": [
      "100%|███████████████████████████████████████████| 87/87 [00:19<00:00,  4.36it/s]\n"
     ]
    },
    {
     "name": "stdout",
     "output_type": "stream",
     "text": [
      "At epoch 8\n"
     ]
    },
    {
     "name": "stderr",
     "output_type": "stream",
     "text": [
      "  1%|▌                                           | 1/87 [00:01<01:36,  1.13s/it]"
     ]
    },
    {
     "name": "stdout",
     "output_type": "stream",
     "text": [
      "train loss: 0.0, train accuracy: 1.0; eval loss: 0.0020282661357163712, eval accuracy: 1.0\n",
      "EarlyStopping counter: 13 out of 20\n"
     ]
    },
    {
     "name": "stderr",
     "output_type": "stream",
     "text": [
      " 48%|████████████████████▊                      | 42/87 [00:10<00:17,  2.56it/s]"
     ]
    },
    {
     "name": "stdout",
     "output_type": "stream",
     "text": [
      "train loss: 0.0, train accuracy: 1.0; eval loss: 0.00021651869690862845, eval accuracy: 1.0\n",
      "EarlyStopping counter: 14 out of 20\n"
     ]
    },
    {
     "name": "stderr",
     "output_type": "stream",
     "text": [
      " 94%|████████████████████████████████████████▌  | 82/87 [00:19<00:01,  2.54it/s]"
     ]
    },
    {
     "name": "stdout",
     "output_type": "stream",
     "text": [
      "train loss: 0.19620044143111617, train accuracy: 0.9938271604938271; eval loss: 1.0596371187906091e-07, eval accuracy: 1.0\n",
      "EarlyStopping counter: 15 out of 20\n"
     ]
    },
    {
     "name": "stderr",
     "output_type": "stream",
     "text": [
      "100%|███████████████████████████████████████████| 87/87 [00:19<00:00,  4.37it/s]\n"
     ]
    },
    {
     "name": "stdout",
     "output_type": "stream",
     "text": [
      "At epoch 9\n"
     ]
    },
    {
     "name": "stderr",
     "output_type": "stream",
     "text": [
      "  2%|█                                           | 2/87 [00:01<00:49,  1.71it/s]"
     ]
    },
    {
     "name": "stdout",
     "output_type": "stream",
     "text": [
      "train loss: 0.0, train accuracy: 1.0; eval loss: 2.6424097288529283e-06, eval accuracy: 1.0\n",
      "EarlyStopping counter: 16 out of 20\n"
     ]
    },
    {
     "name": "stderr",
     "output_type": "stream",
     "text": [
      " 47%|████████████████████▎                      | 41/87 [00:09<00:21,  2.10it/s]"
     ]
    },
    {
     "name": "stdout",
     "output_type": "stream",
     "text": [
      "train loss: 0.14958230460562358, train accuracy: 0.9878048780487805; eval loss: 0.06398767895168728, eval accuracy: 0.9444444444444444\n",
      "EarlyStopping counter: 17 out of 20\n"
     ]
    },
    {
     "name": "stderr",
     "output_type": "stream",
     "text": [
      " 94%|████████████████████████████████████████▌  | 82/87 [00:19<00:01,  2.54it/s]"
     ]
    },
    {
     "name": "stdout",
     "output_type": "stream",
     "text": [
      "train loss: 0.07571449986210575, train accuracy: 0.9938271604938271; eval loss: 0.0006787747455139955, eval accuracy: 1.0\n",
      "EarlyStopping counter: 18 out of 20\n"
     ]
    },
    {
     "name": "stderr",
     "output_type": "stream",
     "text": [
      "100%|███████████████████████████████████████████| 87/87 [00:19<00:00,  4.36it/s]\n"
     ]
    },
    {
     "name": "stdout",
     "output_type": "stream",
     "text": [
      "At epoch 10\n"
     ]
    },
    {
     "name": "stderr",
     "output_type": "stream",
     "text": [
      "  2%|█                                           | 2/87 [00:01<00:50,  1.70it/s]"
     ]
    },
    {
     "name": "stdout",
     "output_type": "stream",
     "text": [
      "train loss: 0.0, train accuracy: 1.0; eval loss: 0.08644550376468235, eval accuracy: 0.9444444444444444\n",
      "EarlyStopping counter: 19 out of 20\n"
     ]
    },
    {
     "name": "stderr",
     "output_type": "stream",
     "text": [
      " 48%|████████████████████▊                      | 42/87 [00:10<00:17,  2.55it/s]"
     ]
    },
    {
     "name": "stdout",
     "output_type": "stream",
     "text": [
      "train loss: 6.541955460816985e-08, train accuracy: 1.0; eval loss: 0.6187329822116427, eval accuracy: 0.8888888888888888\n",
      "EarlyStopping counter: 20 out of 20\n"
     ]
    },
    {
     "name": "stderr",
     "output_type": "stream",
     "text": [
      " 94%|████████████████████████████████████████▌  | 82/87 [00:18<00:01,  2.53it/s]"
     ]
    },
    {
     "name": "stdout",
     "output_type": "stream",
     "text": [
      "train loss: 3.311360171524647e-08, train accuracy: 1.0; eval loss: 1.7152758810349649e-06, eval accuracy: 1.0\n",
      "EarlyStopping counter: 21 out of 20\n"
     ]
    },
    {
     "name": "stderr",
     "output_type": "stream",
     "text": [
      "100%|███████████████████████████████████████████| 87/87 [00:19<00:00,  4.37it/s]\n"
     ]
    }
   ],
   "source": [
    "trainer()"
   ]
  },
  {
   "cell_type": "code",
   "execution_count": 6,
   "id": "55d3c8bb",
   "metadata": {},
   "outputs": [
    {
     "name": "stdout",
     "output_type": "stream",
     "text": [
      "Initialize conv\n",
      "Initialize Bathch\n",
      "Initialize conv\n",
      "Initialize Bathch\n",
      "Initialize conv\n",
      "Initialize Bathch\n",
      "Initialize conv\n",
      "Initialize Bathch\n",
      "Initialize conv\n",
      "Initialize Bathch\n",
      "Initialize conv\n",
      "Initialize Bathch\n",
      "Initialize conv\n",
      "Initialize Bathch\n",
      "Initialize conv\n",
      "Initialize Bathch\n",
      "Initialize conv\n",
      "Initialize Bathch\n",
      "Initialize conv\n",
      "Initialize Bathch\n",
      "Initialize conv\n",
      "Initialize Bathch\n",
      "Initialize conv\n",
      "Initialize Bathch\n",
      "Initialize Linear\n"
     ]
    }
   ],
   "source": [
    "from train.cnn3d import Trainer\n",
    "\n",
    "config = {\n",
    "    \"model\": resnet,\n",
    "    \"train_data\":trainset,\n",
    "    \"val_data\":valset,\n",
    "    \"batch_size\":2,\n",
    "    \"epochs\":20,\n",
    "    \"step_size\":200,\n",
    "    \"lr\":1e-3,\n",
    "    \"interval\":40\n",
    "}\n",
    "res_trainer = Trainer(**config)"
   ]
  },
  {
   "cell_type": "code",
   "execution_count": 7,
   "id": "eedabe27",
   "metadata": {
    "collapsed": true
   },
   "outputs": [
    {
     "name": "stdout",
     "output_type": "stream",
     "text": [
      "Start training\n",
      "At epoch 0\n"
     ]
    },
    {
     "name": "stderr",
     "output_type": "stream",
     "text": [
      "\r",
      "  0%|                                                    | 0/87 [00:00<?, ?it/s]"
     ]
    },
    {
     "name": "stdout",
     "output_type": "stream",
     "text": [
      "train loss: 0.3457094728946686, train accuracy: 1.0; eval loss: 0.7475648721059164, eval accuracy: 0.3888888888888889\n",
      "Validation loss decreased (inf --> 0.747565).  Saving model ...\n"
     ]
    },
    {
     "name": "stderr",
     "output_type": "stream",
     "text": [
      " 47%|████████████████████▎                      | 41/87 [00:14<00:32,  1.44it/s]"
     ]
    },
    {
     "name": "stdout",
     "output_type": "stream",
     "text": [
      "train loss: 0.7710474752139572, train accuracy: 0.8048780487804879; eval loss: 1.2111732492803133, eval accuracy: 0.6666666666666666\n",
      "EarlyStopping counter: 1 out of 20\n"
     ]
    },
    {
     "name": "stderr",
     "output_type": "stream",
     "text": [
      " 92%|███████████████████████████████████████▌   | 80/87 [00:24<00:01,  3.67it/s]"
     ]
    },
    {
     "name": "stdout",
     "output_type": "stream",
     "text": [
      "train loss: 0.5998363893545221, train accuracy: 0.8271604938271605; eval loss: 0.10462451442941124, eval accuracy: 0.8888888888888888\n",
      "Validation loss decreased (0.747565 --> 0.104625).  Saving model ...\n"
     ]
    },
    {
     "name": "stderr",
     "output_type": "stream",
     "text": [
      "100%|███████████████████████████████████████████| 87/87 [00:28<00:00,  3.10it/s]\n"
     ]
    },
    {
     "name": "stdout",
     "output_type": "stream",
     "text": [
      "At epoch 1\n"
     ]
    },
    {
     "name": "stderr",
     "output_type": "stream",
     "text": [
      "  1%|▌                                           | 1/87 [00:01<02:26,  1.70s/it]"
     ]
    },
    {
     "name": "stdout",
     "output_type": "stream",
     "text": [
      "train loss: 0.045921776443719864, train accuracy: 1.0; eval loss: 0.4849943079882198, eval accuracy: 0.7777777777777778\n",
      "EarlyStopping counter: 1 out of 20\n"
     ]
    },
    {
     "name": "stderr",
     "output_type": "stream",
     "text": [
      " 46%|███████████████████▊                       | 40/87 [00:12<00:12,  3.64it/s]"
     ]
    },
    {
     "name": "stdout",
     "output_type": "stream",
     "text": [
      "train loss: 0.06954488329583688, train accuracy: 0.975609756097561; eval loss: 0.06870423182529824, eval accuracy: 0.9444444444444444\n",
      "Validation loss decreased (0.104625 --> 0.068704).  Saving model ...\n"
     ]
    },
    {
     "name": "stderr",
     "output_type": "stream",
     "text": [
      " 92%|███████████████████████████████████████▌   | 80/87 [00:24<00:01,  3.63it/s]"
     ]
    },
    {
     "name": "stdout",
     "output_type": "stream",
     "text": [
      "train loss: 0.04108396577677563, train accuracy: 0.9876543209876543; eval loss: 0.0009073682930546864, eval accuracy: 1.0\n",
      "Validation loss decreased (0.068704 --> 0.000907).  Saving model ...\n"
     ]
    },
    {
     "name": "stderr",
     "output_type": "stream",
     "text": [
      "100%|███████████████████████████████████████████| 87/87 [00:28<00:00,  3.11it/s]\n"
     ]
    },
    {
     "name": "stdout",
     "output_type": "stream",
     "text": [
      "At epoch 2\n"
     ]
    },
    {
     "name": "stderr",
     "output_type": "stream",
     "text": [
      "  1%|▌                                           | 1/87 [00:01<02:27,  1.71s/it]"
     ]
    },
    {
     "name": "stdout",
     "output_type": "stream",
     "text": [
      "train loss: 0.06552794575691223, train accuracy: 1.0; eval loss: 0.0029304328911368633, eval accuracy: 1.0\n",
      "EarlyStopping counter: 1 out of 20\n"
     ]
    },
    {
     "name": "stderr",
     "output_type": "stream",
     "text": [
      " 47%|████████████████████▎                      | 41/87 [00:13<00:31,  1.44it/s]"
     ]
    },
    {
     "name": "stdout",
     "output_type": "stream",
     "text": [
      "train loss: 0.04448483718797655, train accuracy: 0.975609756097561; eval loss: 0.1516812064477967, eval accuracy: 0.8888888888888888\n",
      "EarlyStopping counter: 2 out of 20\n"
     ]
    },
    {
     "name": "stderr",
     "output_type": "stream",
     "text": [
      " 93%|████████████████████████████████████████   | 81/87 [00:26<00:04,  1.40it/s]"
     ]
    },
    {
     "name": "stdout",
     "output_type": "stream",
     "text": [
      "train loss: 0.039764924581560744, train accuracy: 0.9814814814814815; eval loss: 0.013458017120784562, eval accuracy: 1.0\n",
      "EarlyStopping counter: 3 out of 20\n"
     ]
    },
    {
     "name": "stderr",
     "output_type": "stream",
     "text": [
      "100%|███████████████████████████████████████████| 87/87 [00:28<00:00,  3.10it/s]\n"
     ]
    },
    {
     "name": "stdout",
     "output_type": "stream",
     "text": [
      "At epoch 3\n"
     ]
    },
    {
     "name": "stderr",
     "output_type": "stream",
     "text": [
      "\r",
      "  0%|                                                    | 0/87 [00:00<?, ?it/s]"
     ]
    },
    {
     "name": "stdout",
     "output_type": "stream",
     "text": [
      "train loss: 0.001439895131625235, train accuracy: 1.0; eval loss: 0.0003221510156031905, eval accuracy: 1.0\n",
      "Validation loss decreased (0.000907 --> 0.000322).  Saving model ...\n"
     ]
    },
    {
     "name": "stderr",
     "output_type": "stream",
     "text": [
      " 46%|███████████████████▊                       | 40/87 [00:12<00:13,  3.61it/s]"
     ]
    },
    {
     "name": "stdout",
     "output_type": "stream",
     "text": [
      "train loss: 0.0044956003784602395, train accuracy: 1.0; eval loss: 0.00020862766170163619, eval accuracy: 1.0\n",
      "Validation loss decreased (0.000322 --> 0.000209).  Saving model ...\n"
     ]
    },
    {
     "name": "stderr",
     "output_type": "stream",
     "text": [
      " 93%|████████████████████████████████████████   | 81/87 [00:26<00:04,  1.43it/s]"
     ]
    },
    {
     "name": "stdout",
     "output_type": "stream",
     "text": [
      "train loss: 0.004502718487070344, train accuracy: 1.0; eval loss: 0.00024835613223533274, eval accuracy: 1.0\n",
      "EarlyStopping counter: 1 out of 20\n"
     ]
    },
    {
     "name": "stderr",
     "output_type": "stream",
     "text": [
      "100%|███████████████████████████████████████████| 87/87 [00:28<00:00,  3.09it/s]\n"
     ]
    },
    {
     "name": "stdout",
     "output_type": "stream",
     "text": [
      "At epoch 4\n"
     ]
    },
    {
     "name": "stderr",
     "output_type": "stream",
     "text": [
      "  1%|▌                                           | 1/87 [00:01<02:26,  1.70s/it]"
     ]
    },
    {
     "name": "stdout",
     "output_type": "stream",
     "text": [
      "train loss: 0.0005698353052139282, train accuracy: 1.0; eval loss: 0.00028572605783160217, eval accuracy: 1.0\n",
      "EarlyStopping counter: 2 out of 20\n"
     ]
    },
    {
     "name": "stderr",
     "output_type": "stream",
     "text": [
      " 47%|████████████████████▎                      | 41/87 [00:14<00:31,  1.44it/s]"
     ]
    },
    {
     "name": "stdout",
     "output_type": "stream",
     "text": [
      "train loss: 0.008738635164929025, train accuracy: 1.0; eval loss: 0.0003693311446113512, eval accuracy: 1.0\n",
      "EarlyStopping counter: 3 out of 20\n"
     ]
    },
    {
     "name": "stderr",
     "output_type": "stream",
     "text": [
      " 93%|████████████████████████████████████████   | 81/87 [00:26<00:04,  1.42it/s]"
     ]
    },
    {
     "name": "stdout",
     "output_type": "stream",
     "text": [
      "train loss: 0.0648529694749245, train accuracy: 0.9814814814814815; eval loss: 0.009427530589164235, eval accuracy: 1.0\n",
      "EarlyStopping counter: 4 out of 20\n"
     ]
    },
    {
     "name": "stderr",
     "output_type": "stream",
     "text": [
      "100%|███████████████████████████████████████████| 87/87 [00:28<00:00,  3.11it/s]\n"
     ]
    },
    {
     "name": "stdout",
     "output_type": "stream",
     "text": [
      "At epoch 5\n"
     ]
    },
    {
     "name": "stderr",
     "output_type": "stream",
     "text": [
      "  1%|▌                                           | 1/87 [00:01<02:24,  1.68s/it]"
     ]
    },
    {
     "name": "stdout",
     "output_type": "stream",
     "text": [
      "train loss: 0.11902221292257309, train accuracy: 1.0; eval loss: 0.011960661199231658, eval accuracy: 1.0\n",
      "EarlyStopping counter: 5 out of 20\n"
     ]
    },
    {
     "name": "stderr",
     "output_type": "stream",
     "text": [
      " 47%|████████████████████▎                      | 41/87 [00:14<00:32,  1.43it/s]"
     ]
    },
    {
     "name": "stdout",
     "output_type": "stream",
     "text": [
      "train loss: 0.010429273279974373, train accuracy: 1.0; eval loss: 0.003434481560867021, eval accuracy: 1.0\n",
      "EarlyStopping counter: 6 out of 20\n"
     ]
    },
    {
     "name": "stderr",
     "output_type": "stream",
     "text": [
      " 93%|████████████████████████████████████████   | 81/87 [00:26<00:04,  1.44it/s]"
     ]
    },
    {
     "name": "stdout",
     "output_type": "stream",
     "text": [
      "train loss: 0.010743114309684361, train accuracy: 1.0; eval loss: 0.0012067360124395539, eval accuracy: 1.0\n",
      "EarlyStopping counter: 7 out of 20\n"
     ]
    },
    {
     "name": "stderr",
     "output_type": "stream",
     "text": [
      "100%|███████████████████████████████████████████| 87/87 [00:27<00:00,  3.11it/s]\n"
     ]
    },
    {
     "name": "stdout",
     "output_type": "stream",
     "text": [
      "At epoch 6\n"
     ]
    },
    {
     "name": "stderr",
     "output_type": "stream",
     "text": [
      "  1%|▌                                           | 1/87 [00:01<02:27,  1.72s/it]"
     ]
    },
    {
     "name": "stdout",
     "output_type": "stream",
     "text": [
      "train loss: 0.00026240426814183593, train accuracy: 1.0; eval loss: 0.000599051253326858, eval accuracy: 1.0\n",
      "EarlyStopping counter: 8 out of 20\n"
     ]
    },
    {
     "name": "stderr",
     "output_type": "stream",
     "text": [
      " 47%|████████████████████▎                      | 41/87 [00:14<00:32,  1.41it/s]"
     ]
    },
    {
     "name": "stdout",
     "output_type": "stream",
     "text": [
      "train loss: 0.011558928882572574, train accuracy: 0.9878048780487805; eval loss: 0.00506545390008897, eval accuracy: 1.0\n",
      "EarlyStopping counter: 9 out of 20\n"
     ]
    },
    {
     "name": "stderr",
     "output_type": "stream",
     "text": [
      " 93%|████████████████████████████████████████   | 81/87 [00:26<00:04,  1.42it/s]"
     ]
    },
    {
     "name": "stdout",
     "output_type": "stream",
     "text": [
      "train loss: 0.008867898742153804, train accuracy: 0.9938271604938271; eval loss: 0.0023940496935716104, eval accuracy: 1.0\n",
      "EarlyStopping counter: 10 out of 20\n"
     ]
    },
    {
     "name": "stderr",
     "output_type": "stream",
     "text": [
      "100%|███████████████████████████████████████████| 87/87 [00:28<00:00,  3.09it/s]\n"
     ]
    },
    {
     "name": "stdout",
     "output_type": "stream",
     "text": [
      "At epoch 7\n"
     ]
    },
    {
     "name": "stderr",
     "output_type": "stream",
     "text": [
      "  1%|▌                                           | 1/87 [00:01<02:28,  1.73s/it]"
     ]
    },
    {
     "name": "stdout",
     "output_type": "stream",
     "text": [
      "train loss: 0.0010541877709329128, train accuracy: 1.0; eval loss: 0.0014256703822563093, eval accuracy: 1.0\n",
      "EarlyStopping counter: 11 out of 20\n"
     ]
    },
    {
     "name": "stderr",
     "output_type": "stream",
     "text": [
      " 47%|████████████████████▎                      | 41/87 [00:14<00:32,  1.41it/s]"
     ]
    },
    {
     "name": "stdout",
     "output_type": "stream",
     "text": [
      "train loss: 0.005787762453731309, train accuracy: 1.0; eval loss: 0.0007458685075915935, eval accuracy: 1.0\n",
      "EarlyStopping counter: 12 out of 20\n"
     ]
    },
    {
     "name": "stderr",
     "output_type": "stream",
     "text": [
      " 93%|████████████████████████████████████████   | 81/87 [00:26<00:04,  1.41it/s]"
     ]
    },
    {
     "name": "stdout",
     "output_type": "stream",
     "text": [
      "train loss: 0.003748188583420325, train accuracy: 1.0; eval loss: 0.0007270713463690805, eval accuracy: 1.0\n",
      "EarlyStopping counter: 13 out of 20\n"
     ]
    },
    {
     "name": "stderr",
     "output_type": "stream",
     "text": [
      "100%|███████████████████████████████████████████| 87/87 [00:28<00:00,  3.08it/s]\n"
     ]
    },
    {
     "name": "stdout",
     "output_type": "stream",
     "text": [
      "At epoch 8\n"
     ]
    },
    {
     "name": "stderr",
     "output_type": "stream",
     "text": [
      "  1%|▌                                           | 1/87 [00:01<02:29,  1.74s/it]"
     ]
    },
    {
     "name": "stdout",
     "output_type": "stream",
     "text": [
      "train loss: 0.0005179106374271214, train accuracy: 1.0; eval loss: 0.00121595255930313, eval accuracy: 1.0\n",
      "EarlyStopping counter: 14 out of 20\n"
     ]
    },
    {
     "name": "stderr",
     "output_type": "stream",
     "text": [
      " 47%|████████████████████▎                      | 41/87 [00:14<00:32,  1.41it/s]"
     ]
    },
    {
     "name": "stdout",
     "output_type": "stream",
     "text": [
      "train loss: 0.008803546270029052, train accuracy: 1.0; eval loss: 0.0004549909321617128, eval accuracy: 1.0\n",
      "EarlyStopping counter: 15 out of 20\n"
     ]
    },
    {
     "name": "stderr",
     "output_type": "stream",
     "text": [
      " 93%|████████████████████████████████████████   | 81/87 [00:26<00:04,  1.41it/s]"
     ]
    },
    {
     "name": "stdout",
     "output_type": "stream",
     "text": [
      "train loss: 0.009180705275215542, train accuracy: 1.0; eval loss: 0.002823251234884891, eval accuracy: 1.0\n",
      "EarlyStopping counter: 16 out of 20\n"
     ]
    },
    {
     "name": "stderr",
     "output_type": "stream",
     "text": [
      "100%|███████████████████████████████████████████| 87/87 [00:28<00:00,  3.08it/s]\n"
     ]
    },
    {
     "name": "stdout",
     "output_type": "stream",
     "text": [
      "At epoch 9\n"
     ]
    },
    {
     "name": "stderr",
     "output_type": "stream",
     "text": [
      "  1%|▌                                           | 1/87 [00:01<02:27,  1.71s/it]"
     ]
    },
    {
     "name": "stdout",
     "output_type": "stream",
     "text": [
      "train loss: 0.0007159138331189752, train accuracy: 1.0; eval loss: 0.00395271778810032, eval accuracy: 1.0\n",
      "EarlyStopping counter: 17 out of 20\n"
     ]
    },
    {
     "name": "stderr",
     "output_type": "stream",
     "text": [
      " 47%|████████████████████▎                      | 41/87 [00:14<00:32,  1.42it/s]"
     ]
    },
    {
     "name": "stdout",
     "output_type": "stream",
     "text": [
      "train loss: 0.002687765891229302, train accuracy: 1.0; eval loss: 0.002152971105614496, eval accuracy: 1.0\n",
      "EarlyStopping counter: 18 out of 20\n"
     ]
    },
    {
     "name": "stderr",
     "output_type": "stream",
     "text": [
      " 93%|████████████████████████████████████████   | 81/87 [00:26<00:04,  1.41it/s]"
     ]
    },
    {
     "name": "stdout",
     "output_type": "stream",
     "text": [
      "train loss: 0.00236275741962693, train accuracy: 1.0; eval loss: 0.002298382846573885, eval accuracy: 1.0\n",
      "EarlyStopping counter: 19 out of 20\n"
     ]
    },
    {
     "name": "stderr",
     "output_type": "stream",
     "text": [
      "100%|███████████████████████████████████████████| 87/87 [00:28<00:00,  3.08it/s]\n"
     ]
    },
    {
     "name": "stdout",
     "output_type": "stream",
     "text": [
      "At epoch 10\n"
     ]
    },
    {
     "name": "stderr",
     "output_type": "stream",
     "text": [
      "  1%|▌                                           | 1/87 [00:01<02:28,  1.73s/it]"
     ]
    },
    {
     "name": "stdout",
     "output_type": "stream",
     "text": [
      "train loss: 0.00465612206608057, train accuracy: 1.0; eval loss: 0.0022148713097623032, eval accuracy: 1.0\n",
      "EarlyStopping counter: 20 out of 20\n"
     ]
    },
    {
     "name": "stderr",
     "output_type": "stream",
     "text": [
      " 47%|████████████████████▎                      | 41/87 [00:14<00:32,  1.42it/s]"
     ]
    },
    {
     "name": "stdout",
     "output_type": "stream",
     "text": [
      "train loss: 0.002922999334703313, train accuracy: 1.0; eval loss: 0.005275593865210087, eval accuracy: 1.0\n",
      "EarlyStopping counter: 21 out of 20\n"
     ]
    },
    {
     "name": "stderr",
     "output_type": "stream",
     "text": [
      " 93%|████████████████████████████████████████   | 81/87 [00:26<00:04,  1.42it/s]"
     ]
    },
    {
     "name": "stdout",
     "output_type": "stream",
     "text": [
      "train loss: 0.0026403239457135053, train accuracy: 1.0; eval loss: 0.0014400542139709513, eval accuracy: 1.0\n",
      "EarlyStopping counter: 22 out of 20\n"
     ]
    },
    {
     "name": "stderr",
     "output_type": "stream",
     "text": [
      "100%|███████████████████████████████████████████| 87/87 [00:28<00:00,  3.08it/s]\n"
     ]
    }
   ],
   "source": [
    "res_trainer()"
   ]
  },
  {
   "cell_type": "code",
   "execution_count": 7,
   "id": "8584c175",
   "metadata": {
    "scrolled": true
   },
   "outputs": [
    {
     "data": {
      "text/plain": [
       "<All keys matched successfully>"
      ]
     },
     "execution_count": 7,
     "metadata": {},
     "output_type": "execute_result"
    }
   ],
   "source": [
    "import torch\n",
    "from detect.fall_detection.detect import live_inference\n",
    "from models.cnn3d import get_model, resnet10\n",
    "\n",
    "device = torch.device(\"cuda\") if torch.cuda.is_available() else torch.device(\"cpu\")\n",
    "cnn3d = get_model(sample_size=112, sample_duration=10, num_classes=2)\n",
    "cnn3d.load_state_dict(torch.load(\"./runs/cnn3d/basemodel/best.pt\", map_location=device))"
   ]
  },
  {
   "cell_type": "code",
   "execution_count": 13,
   "id": "b2294c9d",
   "metadata": {},
   "outputs": [],
   "source": [
    "from PIL import Image\n",
    "from dataset.cnn3d import DEFAULT_TRANSFORMS\n",
    "paths = ['./data/dataset/Fall_Detection/Train/Fall/4/Fall4.jpg',\n",
    "   './data/dataset/Fall_Detection/Train/Fall/4/Fall5.jpg',\n",
    "   './data/dataset/Fall_Detection/Train/Fall/4/Fall6.jpg',\n",
    "   './data/dataset/Fall_Detection/Train/Fall/4/Fall7.jpg',\n",
    "   './data/dataset/Fall_Detection/Train/Fall/4/Fall8.jpg',\n",
    "   './data/dataset/Fall_Detection/Train/Fall/4/Fall9.jpg',\n",
    "   './data/dataset/Fall_Detection/Train/Fall/4/Fall10.jpg',\n",
    "   './data/dataset/Fall_Detection/Train/Fall/4/Fall11.jpg',\n",
    "   './data/dataset/Fall_Detection/Train/Fall/4/Fall12.jpg',\n",
    "   './data/dataset/Fall_Detection/Train/Fall/4/Fall13.jpg']"
   ]
  },
  {
   "cell_type": "code",
   "execution_count": 39,
   "id": "18ed3ae2",
   "metadata": {},
   "outputs": [
    {
     "data": {
      "text/plain": [
       "['./runs/detect/exp/crops/person/detected51.jpg',\n",
       " './runs/detect/exp/crops/person/detected52.jpg',\n",
       " './runs/detect/exp/crops/person/detected53.jpg',\n",
       " './runs/detect/exp/crops/person/detected54.jpg',\n",
       " './runs/detect/exp/crops/person/detected55.jpg',\n",
       " './runs/detect/exp/crops/person/detected56.jpg',\n",
       " './runs/detect/exp/crops/person/detected57.jpg',\n",
       " './runs/detect/exp/crops/person/detected58.jpg',\n",
       " './runs/detect/exp/crops/person/detected59.jpg',\n",
       " './runs/detect/exp/crops/person/detected60.jpg']"
      ]
     },
     "execution_count": 39,
     "metadata": {},
     "output_type": "execute_result"
    }
   ],
   "source": [
    "import glob\n",
    "import re\n",
    "\n",
    "def match(x):\n",
    "    x = x.split(\"/\")[-1]\n",
    "    try:\n",
    "        digits = re.search(r\"[0-9]+\", x).group()\n",
    "        return int(digits)\n",
    "    except:\n",
    "        return 0\n",
    "    \n",
    "files = glob.glob(\"./runs/detect/exp/crops/person/*.jpg\")\n",
    "files = sorted(files, key=match)\n",
    "paths = files[12:22]\n",
    "paths"
   ]
  },
  {
   "cell_type": "code",
   "execution_count": 40,
   "id": "3d3a5b39",
   "metadata": {},
   "outputs": [
    {
     "data": {
      "text/plain": [
       "torch.Size([1, 3, 10, 112, 112])"
      ]
     },
     "execution_count": 40,
     "metadata": {},
     "output_type": "execute_result"
    }
   ],
   "source": [
    "items = []\n",
    "for path in paths:\n",
    "    img = Image.open(path)\n",
    "    img = DEFAULT_TRANSFORMS(img)\n",
    "    items.append(img)\n",
    "imgs = torch.stack(items, dim=1).unsqueeze(0)\n",
    "imgs.shape"
   ]
  },
  {
   "cell_type": "code",
   "execution_count": 41,
   "id": "c302bfc5",
   "metadata": {},
   "outputs": [
    {
     "data": {
      "text/plain": [
       "tensor([[-25.74424,  17.30852]], grad_fn=<AddmmBackward0>)"
      ]
     },
     "execution_count": 41,
     "metadata": {},
     "output_type": "execute_result"
    }
   ],
   "source": [
    "out = cnn3d(imgs)\n",
    "out"
   ]
  },
  {
   "cell_type": "code",
   "execution_count": 5,
   "id": "cdea55d5",
   "metadata": {},
   "outputs": [
    {
     "data": {
      "text/plain": [
       "tensor(1)"
      ]
     },
     "execution_count": 5,
     "metadata": {},
     "output_type": "execute_result"
    }
   ],
   "source": [
    "pred_fall_idx = torch.argmax(out, dim=1)[0]\n",
    "pred_fall_idx"
   ]
  },
  {
   "cell_type": "code",
   "execution_count": null,
   "id": "b472d8f1",
   "metadata": {},
   "outputs": [],
   "source": []
  }
 ],
 "metadata": {
  "kernelspec": {
   "display_name": "Python 3 (ipykernel)",
   "language": "python",
   "name": "python3"
  },
  "language_info": {
   "codemirror_mode": {
    "name": "ipython",
    "version": 3
   },
   "file_extension": ".py",
   "mimetype": "text/x-python",
   "name": "python",
   "nbconvert_exporter": "python",
   "pygments_lexer": "ipython3",
   "version": "3.8.12"
  }
 },
 "nbformat": 4,
 "nbformat_minor": 5
}

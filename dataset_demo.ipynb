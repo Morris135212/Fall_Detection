{
 "cells": [
  {
   "cell_type": "code",
   "execution_count": 1,
   "id": "70406f61",
   "metadata": {},
   "outputs": [
    {
     "name": "stderr",
     "output_type": "stream",
     "text": [
      "/Users/maochenhui/miniforge3/envs/DL/lib/python3.8/site-packages/torchvision/io/image.py:11: UserWarning: Failed to load image Python extension: \n",
      "  warn(f\"Failed to load image Python extension: {e}\")\n"
     ]
    }
   ],
   "source": [
    "from dataset.cnn3d import CustomDataset\n",
    "from torch.utils.data import DataLoader"
   ]
  },
  {
   "cell_type": "code",
   "execution_count": 2,
   "id": "ab92fda5",
   "metadata": {},
   "outputs": [],
   "source": [
    "path = \"./data/dataset/Fall_Detection/Train\"\n",
    "classes = [\"Walk\", \"Fall\"]\n",
    "data = CustomDataset(path, classes)"
   ]
  },
  {
   "cell_type": "code",
   "execution_count": 8,
   "id": "c08ec676",
   "metadata": {},
   "outputs": [],
   "source": [
    "tests = data.annotations\n",
    "count = 0\n",
    "for test in tests:\n",
    "    if test[\"class_index\"]==1:\n",
    "        count+=1"
   ]
  },
  {
   "cell_type": "code",
   "execution_count": 4,
   "id": "a2cc0ea9",
   "metadata": {},
   "outputs": [],
   "source": [
    "batch_size=2\n",
    "train_loader = DataLoader(data, batch_size, shuffle=True)"
   ]
  },
  {
   "cell_type": "code",
   "execution_count": 5,
   "id": "376c5d41",
   "metadata": {
    "scrolled": false
   },
   "outputs": [
    {
     "data": {
      "text/plain": [
       "torch.Size([2, 3, 10, 112, 112])"
      ]
     },
     "execution_count": 5,
     "metadata": {},
     "output_type": "execute_result"
    }
   ],
   "source": [
    "demo = next(iter(train_loader))\n",
    "demo[0].shape"
   ]
  },
  {
   "cell_type": "code",
   "execution_count": null,
   "id": "8b960b6d",
   "metadata": {},
   "outputs": [],
   "source": []
  }
 ],
 "metadata": {
  "kernelspec": {
   "display_name": "Python 3 (ipykernel)",
   "language": "python",
   "name": "python3"
  },
  "language_info": {
   "codemirror_mode": {
    "name": "ipython",
    "version": 3
   },
   "file_extension": ".py",
   "mimetype": "text/x-python",
   "name": "python",
   "nbconvert_exporter": "python",
   "pygments_lexer": "ipython3",
   "version": "3.8.12"
  }
 },
 "nbformat": 4,
 "nbformat_minor": 5
}
